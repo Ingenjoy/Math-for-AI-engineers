{
 "cells": [
  {
   "cell_type": "markdown",
   "metadata": {},
   "source": [
    "## Vector Addtion"
   ]
  },
  {
   "cell_type": "markdown",
   "metadata": {},
   "source": [
    "1. Solve for x\n",
    "$$u=\\begin{pmatrix}\n",
    "2\\\\\n",
    "-1\\\\\n",
    "5\\\\\n",
    "0\\end{pmatrix} , v=\\begin{pmatrix}\n",
    "4\\\\\n",
    "-3\\\\\n",
    "1\\\\\n",
    "-1\n",
    "\\end{pmatrix}, \\ \\ \n",
    "w=\\begin{pmatrix}\n",
    "-6\\\\2\\\\0\\\\3\\end{pmatrix}$$\n",
    "\n",
    "(1) x=2u-(v+3w)"
   ]
  },
  {
   "cell_type": "code",
   "execution_count": 56,
   "metadata": {},
   "outputs": [
    {
     "name": "stdout",
     "output_type": "stream",
     "text": [
      "[18 -5  9 -8]\n"
     ]
    }
   ],
   "source": [
    "from numpy import array\n",
    "u = array([2,-1,5,0])\n",
    "v = array([4,-3,1,-1])\n",
    "w=array([-6,2,0,3])\n",
    "#3w\n",
    "c = 3\n",
    "a = c*w\n",
    "#2u\n",
    "d=2\n",
    "e = d*u\n",
    "x=d*u - (v+a)\n",
    "print(x) #[18 -5  9 -8]"
   ]
  },
  {
   "cell_type": "markdown",
   "metadata": {},
   "source": [
    "(2) 3(x+w)=2u-v+x\n",
    "    x=u-(1/2)v-(3/2)w"
   ]
  },
  {
   "cell_type": "code",
   "execution_count": 74,
   "metadata": {},
   "outputs": [
    {
     "name": "stdout",
     "output_type": "stream",
     "text": [
      "[ 9.  -2.5  4.5 -4. ]\n"
     ]
    }
   ],
   "source": [
    "from numpy import array\n",
    "u = array([2,-1,5,0])\n",
    "v = array([4,-3,1,-1])\n",
    "w=array([-6,2,0,3])\n",
    "i= 1/2\n",
    "j=3/2\n",
    "x = u - i*v - j*w\n",
    "print(x) # [9.  -2.5  4.5 -4. ]"
   ]
  },
  {
   "cell_type": "markdown",
   "metadata": {},
   "source": [
    "## Operation (dot, tensor)"
   ]
  },
  {
   "cell_type": "markdown",
   "metadata": {},
   "source": [
    "(3) x=u dot v"
   ]
  },
  {
   "cell_type": "code",
   "execution_count": 75,
   "metadata": {},
   "outputs": [
    {
     "name": "stdout",
     "output_type": "stream",
     "text": [
      "16\n"
     ]
    }
   ],
   "source": [
    "x=u.dot(v)\n",
    "print(x) #16"
   ]
  },
  {
   "cell_type": "markdown",
   "metadata": {},
   "source": [
    "2. Solve the A tensor B"
   ]
  },
  {
   "cell_type": "code",
   "execution_count": 86,
   "metadata": {},
   "outputs": [
    {
     "name": "stdout",
     "output_type": "stream",
     "text": [
      "[[[[ 2 10]\n",
      "   [ 4  8]]]\n",
      "\n",
      "\n",
      " [[[ 3 15]\n",
      "   [ 6 12]]]]\n"
     ]
    }
   ],
   "source": [
    "from numpy import array\n",
    "from numpy import tensordot\n",
    "A = array([[2],[3]])\n",
    "B = array([[1,5],[2,4]])\n",
    "C=tensordot(A, B, axes=0)\n",
    "print(C) \n",
    "#[[[[ 2 10]\n",
    "#   [ 4  8]]]\n",
    "\n",
    "\n",
    "# [[[ 3 15]\n",
    "#   [ 6 12]]]]"
   ]
  },
  {
   "cell_type": "markdown",
   "metadata": {},
   "source": [
    "3. Write x as a linear combination of u and w. if possible."
   ]
  },
  {
   "cell_type": "markdown",
   "metadata": {},
   "source": [
    "X=[0,3]^t\n",
    "u=[1.2]^T\n",
    "w=[1,-1]^T"
   ]
  },
  {
   "cell_type": "code",
   "execution_count": 106,
   "metadata": {},
   "outputs": [],
   "source": [
    "x=array([[0,3]])\n",
    "X=x.T\n",
    "u=array([[1,2]])\n",
    "U=u.T\n",
    "w=array([[1,-1]])\n",
    "W=w.T\n",
    "a=1\n",
    "b=-1\n",
    "Y=a*u+b*w"
   ]
  },
  {
   "cell_type": "markdown",
   "metadata": {},
   "source": [
    "5. Show that the vectors u,v are orthogonal"
   ]
  },
  {
   "cell_type": "code",
   "execution_count": 119,
   "metadata": {},
   "outputs": [
    {
     "data": {
      "text/plain": [
       "array([[0]])"
      ]
     },
     "execution_count": 119,
     "metadata": {},
     "output_type": "execute_result"
    }
   ],
   "source": [
    "u=array([[3,2,-1,4]])\n",
    "v=array([[1,-1,1,0]])\n",
    "u.dot(v.T) #array([[0]])"
   ]
  }
 ],
 "metadata": {
  "kernelspec": {
   "display_name": "Python 3",
   "language": "python",
   "name": "python3"
  },
  "language_info": {
   "codemirror_mode": {
    "name": "ipython",
    "version": 3
   },
   "file_extension": ".py",
   "mimetype": "text/x-python",
   "name": "python",
   "nbconvert_exporter": "python",
   "pygments_lexer": "ipython3",
   "version": "3.6.4"
  }
 },
 "nbformat": 4,
 "nbformat_minor": 2
}
